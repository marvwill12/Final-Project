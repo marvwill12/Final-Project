{
 "cells": [
  {
   "cell_type": "markdown",
   "metadata": {},
   "source": [
    "# Final Project Code"
   ]
  },
  {
   "cell_type": "code",
   "execution_count": 84,
   "metadata": {},
   "outputs": [],
   "source": [
    "import pandas as pd \n",
    "import numpy as np \n",
    "import h2o \n",
    "import re \n",
    "from h2o.targetencoder import TargetEncoder \n",
    "from sklearn.model_selection import train_test_split \n",
    "from sklearn.preprocessing import MinMaxScaler, StandardScaler, RobustScaler \n",
    "from h2o.grid.grid_search import H2OGridSearch \n",
    "from h2o.estimators import H2ORandomForestEstimator \n",
    "import matplotlib.pyplot as plt \n",
    "import nltk\n",
    "import gensim\n",
    "import seaborn as sns \n",
    "import string\n",
    "import warnings \n",
    "warnings.filterwarnings('ignore') \n",
    "pd.options.display.float_format = '{:20.2f}'.format \n",
    "sns.set(font = \"Computer Moder \", style = 'ticks')                                                                                                   "
   ]
  },
  {
   "cell_type": "code",
   "execution_count": 2,
   "metadata": {},
   "outputs": [],
   "source": [
    "data = \"https://data.cityofnewyork.us/api/views/h9gi-nx95/rows.csv?accessType=DOWNLOAD\""
   ]
  },
  {
   "cell_type": "code",
   "execution_count": 3,
   "metadata": {},
   "outputs": [],
   "source": [
    "collisions = pd.read_csv(data)"
   ]
  },
  {
   "cell_type": "code",
   "execution_count": 4,
   "metadata": {},
   "outputs": [
    {
     "name": "stdout",
     "output_type": "stream",
     "text": [
      "Checking whether there is an H2O instance running at http://localhost:54321 . connected.\n"
     ]
    },
    {
     "data": {
      "text/html": [
       "<div style=\"overflow:auto\"><table style=\"width:50%\"><tr><td>H2O cluster uptime:</td>\n",
       "<td>1 day 22 hours 39 mins</td></tr>\n",
       "<tr><td>H2O cluster timezone:</td>\n",
       "<td>America/New_York</td></tr>\n",
       "<tr><td>H2O data parsing timezone:</td>\n",
       "<td>UTC</td></tr>\n",
       "<tr><td>H2O cluster version:</td>\n",
       "<td>3.28.1.2</td></tr>\n",
       "<tr><td>H2O cluster version age:</td>\n",
       "<td>2 months and 2 days </td></tr>\n",
       "<tr><td>H2O cluster name:</td>\n",
       "<td>H2O_from_python_joevorbeck_qjvoph</td></tr>\n",
       "<tr><td>H2O cluster total nodes:</td>\n",
       "<td>1</td></tr>\n",
       "<tr><td>H2O cluster free memory:</td>\n",
       "<td>8.58 Gb</td></tr>\n",
       "<tr><td>H2O cluster total cores:</td>\n",
       "<td>4</td></tr>\n",
       "<tr><td>H2O cluster allowed cores:</td>\n",
       "<td>4</td></tr>\n",
       "<tr><td>H2O cluster status:</td>\n",
       "<td>locked, healthy</td></tr>\n",
       "<tr><td>H2O connection url:</td>\n",
       "<td>http://localhost:54321</td></tr>\n",
       "<tr><td>H2O connection proxy:</td>\n",
       "<td>{'http': None, 'https': None}</td></tr>\n",
       "<tr><td>H2O internal security:</td>\n",
       "<td>False</td></tr>\n",
       "<tr><td>H2O API Extensions:</td>\n",
       "<td>Amazon S3, XGBoost, Algos, AutoML, Core V3, TargetEncoder, Core V4</td></tr>\n",
       "<tr><td>Python version:</td>\n",
       "<td>3.7.3 final</td></tr></table></div>"
      ],
      "text/plain": [
       "--------------------------  ------------------------------------------------------------------\n",
       "H2O cluster uptime:         1 day 22 hours 39 mins\n",
       "H2O cluster timezone:       America/New_York\n",
       "H2O data parsing timezone:  UTC\n",
       "H2O cluster version:        3.28.1.2\n",
       "H2O cluster version age:    2 months and 2 days\n",
       "H2O cluster name:           H2O_from_python_joevorbeck_qjvoph\n",
       "H2O cluster total nodes:    1\n",
       "H2O cluster free memory:    8.58 Gb\n",
       "H2O cluster total cores:    4\n",
       "H2O cluster allowed cores:  4\n",
       "H2O cluster status:         locked, healthy\n",
       "H2O connection url:         http://localhost:54321\n",
       "H2O connection proxy:       {'http': None, 'https': None}\n",
       "H2O internal security:      False\n",
       "H2O API Extensions:         Amazon S3, XGBoost, Algos, AutoML, Core V3, TargetEncoder, Core V4\n",
       "Python version:             3.7.3 final\n",
       "--------------------------  ------------------------------------------------------------------"
      ]
     },
     "metadata": {},
     "output_type": "display_data"
    }
   ],
   "source": [
    "h2o.init(max_mem_size = 10)    "
   ]
  },
  {
   "cell_type": "code",
   "execution_count": 138,
   "metadata": {},
   "outputs": [],
   "source": [
    "max_one_hot = 25       #Threshold for categorical data \n",
    "min_numerical = 300    #Threshold for numerical data    \n",
    "test_size = .25      #Ratio for train/holdout  \n",
    "dep_var =  \"inj_death_ind\" \n",
    "scaling_method = StandardScaler()  #Method for Scaling (MinMax, Standard, Etc.) \n",
    "seed = 1994 "
   ]
  },
  {
   "cell_type": "code",
   "execution_count": 6,
   "metadata": {},
   "outputs": [
    {
     "data": {
      "text/plain": [
       "Index(['CRASH DATE', 'CRASH TIME', 'BOROUGH', 'ZIP CODE', 'LATITUDE',\n",
       "       'LONGITUDE', 'LOCATION', 'ON STREET NAME', 'CROSS STREET NAME',\n",
       "       'OFF STREET NAME', 'NUMBER OF PERSONS INJURED',\n",
       "       'NUMBER OF PERSONS KILLED', 'NUMBER OF PEDESTRIANS INJURED',\n",
       "       'NUMBER OF PEDESTRIANS KILLED', 'NUMBER OF CYCLIST INJURED',\n",
       "       'NUMBER OF CYCLIST KILLED', 'NUMBER OF MOTORIST INJURED',\n",
       "       'NUMBER OF MOTORIST KILLED', 'CONTRIBUTING FACTOR VEHICLE 1',\n",
       "       'CONTRIBUTING FACTOR VEHICLE 2', 'CONTRIBUTING FACTOR VEHICLE 3',\n",
       "       'CONTRIBUTING FACTOR VEHICLE 4', 'CONTRIBUTING FACTOR VEHICLE 5',\n",
       "       'COLLISION_ID', 'VEHICLE TYPE CODE 1', 'VEHICLE TYPE CODE 2',\n",
       "       'VEHICLE TYPE CODE 3', 'VEHICLE TYPE CODE 4', 'VEHICLE TYPE CODE 5'],\n",
       "      dtype='object')"
      ]
     },
     "execution_count": 6,
     "metadata": {},
     "output_type": "execute_result"
    }
   ],
   "source": [
    "#Check dataframe\n",
    "collisions.columns"
   ]
  },
  {
   "cell_type": "code",
   "execution_count": 7,
   "metadata": {},
   "outputs": [
    {
     "data": {
      "text/html": [
       "<div>\n",
       "<style scoped>\n",
       "    .dataframe tbody tr th:only-of-type {\n",
       "        vertical-align: middle;\n",
       "    }\n",
       "\n",
       "    .dataframe tbody tr th {\n",
       "        vertical-align: top;\n",
       "    }\n",
       "\n",
       "    .dataframe thead th {\n",
       "        text-align: right;\n",
       "    }\n",
       "</style>\n",
       "<table border=\"1\" class=\"dataframe\">\n",
       "  <thead>\n",
       "    <tr style=\"text-align: right;\">\n",
       "      <th></th>\n",
       "      <th>CRASH DATE</th>\n",
       "      <th>CRASH TIME</th>\n",
       "      <th>BOROUGH</th>\n",
       "      <th>ZIP CODE</th>\n",
       "      <th>LATITUDE</th>\n",
       "      <th>LONGITUDE</th>\n",
       "      <th>LOCATION</th>\n",
       "      <th>ON STREET NAME</th>\n",
       "      <th>CROSS STREET NAME</th>\n",
       "      <th>OFF STREET NAME</th>\n",
       "      <th>...</th>\n",
       "      <th>CONTRIBUTING FACTOR VEHICLE 2</th>\n",
       "      <th>CONTRIBUTING FACTOR VEHICLE 3</th>\n",
       "      <th>CONTRIBUTING FACTOR VEHICLE 4</th>\n",
       "      <th>CONTRIBUTING FACTOR VEHICLE 5</th>\n",
       "      <th>COLLISION_ID</th>\n",
       "      <th>VEHICLE TYPE CODE 1</th>\n",
       "      <th>VEHICLE TYPE CODE 2</th>\n",
       "      <th>VEHICLE TYPE CODE 3</th>\n",
       "      <th>VEHICLE TYPE CODE 4</th>\n",
       "      <th>VEHICLE TYPE CODE 5</th>\n",
       "    </tr>\n",
       "  </thead>\n",
       "  <tbody>\n",
       "    <tr>\n",
       "      <th>0</th>\n",
       "      <td>02/03/2017</td>\n",
       "      <td>17:58</td>\n",
       "      <td>NaN</td>\n",
       "      <td>NaN</td>\n",
       "      <td>nan</td>\n",
       "      <td>nan</td>\n",
       "      <td>NaN</td>\n",
       "      <td>NaN</td>\n",
       "      <td>NaN</td>\n",
       "      <td>1852      RIVERSIDE DRIVE</td>\n",
       "      <td>...</td>\n",
       "      <td>Unspecified</td>\n",
       "      <td>NaN</td>\n",
       "      <td>NaN</td>\n",
       "      <td>NaN</td>\n",
       "      <td>3610711</td>\n",
       "      <td>TAXI</td>\n",
       "      <td>TAXI</td>\n",
       "      <td>NaN</td>\n",
       "      <td>NaN</td>\n",
       "      <td>NaN</td>\n",
       "    </tr>\n",
       "    <tr>\n",
       "      <th>1</th>\n",
       "      <td>02/03/2017</td>\n",
       "      <td>19:00</td>\n",
       "      <td>NaN</td>\n",
       "      <td>NaN</td>\n",
       "      <td>nan</td>\n",
       "      <td>nan</td>\n",
       "      <td>NaN</td>\n",
       "      <td>STATEN ISLAND EXPRESSWAY</td>\n",
       "      <td>NaN</td>\n",
       "      <td>NaN</td>\n",
       "      <td>...</td>\n",
       "      <td>NaN</td>\n",
       "      <td>NaN</td>\n",
       "      <td>NaN</td>\n",
       "      <td>NaN</td>\n",
       "      <td>3611218</td>\n",
       "      <td>SPORT UTILITY / STATION WAGON</td>\n",
       "      <td>NaN</td>\n",
       "      <td>NaN</td>\n",
       "      <td>NaN</td>\n",
       "      <td>NaN</td>\n",
       "    </tr>\n",
       "    <tr>\n",
       "      <th>2</th>\n",
       "      <td>05/12/2020</td>\n",
       "      <td>16:28</td>\n",
       "      <td>NaN</td>\n",
       "      <td>NaN</td>\n",
       "      <td>nan</td>\n",
       "      <td>nan</td>\n",
       "      <td>NaN</td>\n",
       "      <td>CROSS BRONX EXPY RAMP</td>\n",
       "      <td>NaN</td>\n",
       "      <td>NaN</td>\n",
       "      <td>...</td>\n",
       "      <td>Unspecified</td>\n",
       "      <td>NaN</td>\n",
       "      <td>NaN</td>\n",
       "      <td>NaN</td>\n",
       "      <td>4313235</td>\n",
       "      <td>Sedan</td>\n",
       "      <td>Sedan</td>\n",
       "      <td>NaN</td>\n",
       "      <td>NaN</td>\n",
       "      <td>NaN</td>\n",
       "    </tr>\n",
       "    <tr>\n",
       "      <th>3</th>\n",
       "      <td>01/18/2014</td>\n",
       "      <td>10:10</td>\n",
       "      <td>NaN</td>\n",
       "      <td>NaN</td>\n",
       "      <td>40.61</td>\n",
       "      <td>-73.90</td>\n",
       "      <td>POINT (-73.8986633 40.6057453)</td>\n",
       "      <td>NaN</td>\n",
       "      <td>NaN</td>\n",
       "      <td>NaN</td>\n",
       "      <td>...</td>\n",
       "      <td>Unspecified</td>\n",
       "      <td>NaN</td>\n",
       "      <td>NaN</td>\n",
       "      <td>NaN</td>\n",
       "      <td>2950386</td>\n",
       "      <td>PASSENGER VEHICLE</td>\n",
       "      <td>PASSENGER VEHICLE</td>\n",
       "      <td>NaN</td>\n",
       "      <td>NaN</td>\n",
       "      <td>NaN</td>\n",
       "    </tr>\n",
       "    <tr>\n",
       "      <th>4</th>\n",
       "      <td>02/03/2017</td>\n",
       "      <td>19:57</td>\n",
       "      <td>NaN</td>\n",
       "      <td>NaN</td>\n",
       "      <td>40.88</td>\n",
       "      <td>-73.85</td>\n",
       "      <td>POINT (-73.848755 40.88144)</td>\n",
       "      <td>EAST 222 STREET</td>\n",
       "      <td>NaN</td>\n",
       "      <td>NaN</td>\n",
       "      <td>...</td>\n",
       "      <td>NaN</td>\n",
       "      <td>NaN</td>\n",
       "      <td>NaN</td>\n",
       "      <td>NaN</td>\n",
       "      <td>3609932</td>\n",
       "      <td>SPORT UTILITY / STATION WAGON</td>\n",
       "      <td>NaN</td>\n",
       "      <td>NaN</td>\n",
       "      <td>NaN</td>\n",
       "      <td>NaN</td>\n",
       "    </tr>\n",
       "  </tbody>\n",
       "</table>\n",
       "<p>5 rows × 29 columns</p>\n",
       "</div>"
      ],
      "text/plain": [
       "   CRASH DATE CRASH TIME BOROUGH ZIP CODE             LATITUDE  \\\n",
       "0  02/03/2017      17:58     NaN      NaN                  nan   \n",
       "1  02/03/2017      19:00     NaN      NaN                  nan   \n",
       "2  05/12/2020      16:28     NaN      NaN                  nan   \n",
       "3  01/18/2014      10:10     NaN      NaN                40.61   \n",
       "4  02/03/2017      19:57     NaN      NaN                40.88   \n",
       "\n",
       "             LONGITUDE                        LOCATION  \\\n",
       "0                  nan                             NaN   \n",
       "1                  nan                             NaN   \n",
       "2                  nan                             NaN   \n",
       "3               -73.90  POINT (-73.8986633 40.6057453)   \n",
       "4               -73.85     POINT (-73.848755 40.88144)   \n",
       "\n",
       "                     ON STREET NAME CROSS STREET NAME  \\\n",
       "0                               NaN               NaN   \n",
       "1  STATEN ISLAND EXPRESSWAY                       NaN   \n",
       "2  CROSS BRONX EXPY RAMP                          NaN   \n",
       "3                               NaN               NaN   \n",
       "4  EAST 222 STREET                                NaN   \n",
       "\n",
       "                            OFF STREET NAME  ...  \\\n",
       "0  1852      RIVERSIDE DRIVE                 ...   \n",
       "1                                       NaN  ...   \n",
       "2                                       NaN  ...   \n",
       "3                                       NaN  ...   \n",
       "4                                       NaN  ...   \n",
       "\n",
       "   CONTRIBUTING FACTOR VEHICLE 2  CONTRIBUTING FACTOR VEHICLE 3  \\\n",
       "0                    Unspecified                            NaN   \n",
       "1                            NaN                            NaN   \n",
       "2                    Unspecified                            NaN   \n",
       "3                    Unspecified                            NaN   \n",
       "4                            NaN                            NaN   \n",
       "\n",
       "   CONTRIBUTING FACTOR VEHICLE 4  CONTRIBUTING FACTOR VEHICLE 5  COLLISION_ID  \\\n",
       "0                            NaN                            NaN       3610711   \n",
       "1                            NaN                            NaN       3611218   \n",
       "2                            NaN                            NaN       4313235   \n",
       "3                            NaN                            NaN       2950386   \n",
       "4                            NaN                            NaN       3609932   \n",
       "\n",
       "             VEHICLE TYPE CODE 1  VEHICLE TYPE CODE 2  VEHICLE TYPE CODE 3  \\\n",
       "0                           TAXI                 TAXI                  NaN   \n",
       "1  SPORT UTILITY / STATION WAGON                  NaN                  NaN   \n",
       "2                          Sedan                Sedan                  NaN   \n",
       "3              PASSENGER VEHICLE    PASSENGER VEHICLE                  NaN   \n",
       "4  SPORT UTILITY / STATION WAGON                  NaN                  NaN   \n",
       "\n",
       "  VEHICLE TYPE CODE 4 VEHICLE TYPE CODE 5  \n",
       "0                 NaN                 NaN  \n",
       "1                 NaN                 NaN  \n",
       "2                 NaN                 NaN  \n",
       "3                 NaN                 NaN  \n",
       "4                 NaN                 NaN  \n",
       "\n",
       "[5 rows x 29 columns]"
      ]
     },
     "execution_count": 7,
     "metadata": {},
     "output_type": "execute_result"
    }
   ],
   "source": [
    "collisions.head()"
   ]
  },
  {
   "cell_type": "markdown",
   "metadata": {},
   "source": [
    "# Text Analysis"
   ]
  },
  {
   "cell_type": "code",
   "execution_count": 89,
   "metadata": {},
   "outputs": [],
   "source": [
    "#NLP - Looking at the streets of accidents\n",
    "street_nlp = str(list(collisions['ON STREET NAME']))"
   ]
  },
  {
   "cell_type": "code",
   "execution_count": 90,
   "metadata": {},
   "outputs": [],
   "source": [
    "#Normalize text\n",
    "street_nlp = street_nlp.lower().split()"
   ]
  },
  {
   "cell_type": "code",
   "execution_count": 91,
   "metadata": {},
   "outputs": [],
   "source": [
    "#Tokenize text\n",
    "street_nlp_token = nltk.word_tokenize(str(street_nlp))"
   ]
  },
  {
   "cell_type": "code",
   "execution_count": 92,
   "metadata": {},
   "outputs": [],
   "source": [
    "#As a note, dont want to lemmatize or stem words, these are street names / types"
   ]
  },
  {
   "cell_type": "code",
   "execution_count": 93,
   "metadata": {},
   "outputs": [],
   "source": [
    "#Get list of punctuation to remove from set of strings\n",
    "punc = string.punctuation"
   ]
  },
  {
   "cell_type": "code",
   "execution_count": 99,
   "metadata": {},
   "outputs": [],
   "source": [
    "#Remove punctuation from strings\n",
    "street_nlp_token_cleaned = [x for x in street_nlp_token if x not in [punc, \"''\", \"``\",\",\",\"'\",\"[\",\"]\"]]"
   ]
  },
  {
   "cell_type": "code",
   "execution_count": 121,
   "metadata": {},
   "outputs": [],
   "source": [
    "#Plot frequency distribution of top words \n",
    "fdist  = pd.DataFrame.from_dict(nltk.FreqDist(street_nlp_token_cleaned), orient = \"index\").reset_index().sort_values(by = 0, ascending = False)\n",
    "fdist.rename(columns = {\"index\" : \"word\", 0 : \"count\"}, inplace = True)"
   ]
  },
  {
   "cell_type": "code",
   "execution_count": 123,
   "metadata": {},
   "outputs": [],
   "source": [
    "#Drop Na row\n",
    "fdist = fdist[fdist['word'] != \"'nan\"]"
   ]
  },
  {
   "cell_type": "code",
   "execution_count": 173,
   "metadata": {},
   "outputs": [
    {
     "data": {
      "text/plain": [
       "Text(0.5, 1.0, 'Top 10 Most Frequent Terms in Streets where MV Accidents Occured')"
      ]
     },
     "execution_count": 173,
     "metadata": {},
     "output_type": "execute_result"
    },
    {
     "data": {
      "image/png": "[encoded data removed]",
      "text/plain": [
       "<Figure size 576x396 with 1 Axes>"
      ]
     },
     "metadata": {},
     "output_type": "display_data"
    }
   ],
   "source": [
    "#Plot top 10 - looking for trends / patterns\n",
    "sns.barplot(x = \"count\", y = \"word\", data = fdist[0:11], orient = \"h\").set(yticklabels = [\"avenue\",\"street\",\"east\",\"boulevard\",\"west\",\"road\",\"parkway\",\"expressway\",\"island\",\"queens\",\"place\"])\n",
    "plt.ylabel(\"Part of Street\")\n",
    "plt.title(\"Top 10 Most Frequent Terms in Streets where MV Accidents Occured\")\n"
   ]
  },
  {
   "cell_type": "markdown",
   "metadata": {},
   "source": [
    "# Creating the Target and Dataset to be Pre-processed"
   ]
  },
  {
   "cell_type": "code",
   "execution_count": 132,
   "metadata": {},
   "outputs": [],
   "source": [
    "#Create DV - Was 1 or more cyclists killed or injured?\n",
    "def dv(x): \n",
    "    if x['NUMBER OF CYCLIST KILLED'] >= 1 or x['NUMBER OF CYCLIST INJURED'] >= 1: \n",
    "        val = 1 \n",
    "    else: \n",
    "        val = 0 \n",
    "    return val "
   ]
  },
  {
   "cell_type": "code",
   "execution_count": 133,
   "metadata": {},
   "outputs": [],
   "source": [
    "collisions[dep_var] = collisions.apply(dv, axis = 1)"
   ]
  },
  {
   "cell_type": "code",
   "execution_count": 134,
   "metadata": {},
   "outputs": [],
   "source": [
    "#Remove rows where borough is empty (corresponds with a blank zipcode)\n",
    "collisions = collisions[collisions['BOROUGH'].notnull()]"
   ]
  },
  {
   "cell_type": "code",
   "execution_count": 135,
   "metadata": {},
   "outputs": [],
   "source": [
    "#Extract month and hour from cincident date to use as features\n",
    "collisions['Month'] = pd.to_datetime(collisions['CRASH DATE']).dt.month\n",
    "collisions['Hour'] = collisions['CRASH TIME'].str[0:2].str.replace(\":\",\"\")"
   ]
  },
  {
   "cell_type": "code",
   "execution_count": 139,
   "metadata": {},
   "outputs": [],
   "source": [
    "#Drop unwanted columns\n",
    "collisions = collisions[[\"Month\",\"Hour\",\"BOROUGH\",\"ZIP CODE\",\"NUMBER OF PEDESTRIANS KILLED\",\"NUMBER OF PEDESTRIANS INJURED\",\"NUMBER OF MOTORIST KILLED\", \"NUMBER OF MOTORIST INJURED\",\"CONTRIBUTING FACTOR VEHICLE 1\",\"VEHICLE TYPE CODE 1\", dep_var]]"
   ]
  },
  {
   "cell_type": "markdown",
   "metadata": {},
   "source": [
    "## Descriptive Stats & Visualizations"
   ]
  },
  {
   "cell_type": "code",
   "execution_count": 170,
   "metadata": {},
   "outputs": [],
   "source": [
    "#Count of the dv\n",
    "dv_count = pd.DataFrame(collisions.groupby(dep_var)[dep_var].count())\n",
    "dv_count.rename(columns = {dep_var : \"count\"}, inplace = True)\n",
    "dv_count = dv_count.reset_index()"
   ]
  },
  {
   "cell_type": "code",
   "execution_count": 174,
   "metadata": {},
   "outputs": [
    {
     "data": {
      "text/html": [
       "<div>\n",
       "<style scoped>\n",
       "    .dataframe tbody tr th:only-of-type {\n",
       "        vertical-align: middle;\n",
       "    }\n",
       "\n",
       "    .dataframe tbody tr th {\n",
       "        vertical-align: top;\n",
       "    }\n",
       "\n",
       "    .dataframe thead th {\n",
       "        text-align: right;\n",
       "    }\n",
       "</style>\n",
       "<table border=\"1\" class=\"dataframe\">\n",
       "  <thead>\n",
       "    <tr style=\"text-align: right;\">\n",
       "      <th></th>\n",
       "      <th>inj_death_ind</th>\n",
       "      <th>count</th>\n",
       "    </tr>\n",
       "  </thead>\n",
       "  <tbody>\n",
       "    <tr>\n",
       "      <th>0</th>\n",
       "      <td>0</td>\n",
       "      <td>1138397</td>\n",
       "    </tr>\n",
       "    <tr>\n",
       "      <th>1</th>\n",
       "      <td>1</td>\n",
       "      <td>27455</td>\n",
       "    </tr>\n",
       "  </tbody>\n",
       "</table>\n",
       "</div>"
      ],
      "text/plain": [
       "   inj_death_ind    count\n",
       "0              0  1138397\n",
       "1              1    27455"
      ]
     },
     "execution_count": 174,
     "metadata": {},
     "output_type": "execute_result"
    }
   ],
   "source": [
    "dv_count"
   ]
  },
  {
   "cell_type": "code",
   "execution_count": 175,
   "metadata": {},
   "outputs": [
    {
     "data": {
      "text/plain": [
       "Text(0.5, 1.0, 'Count of Bicycle Injury or Death Events')"
      ]
     },
     "execution_count": 175,
     "metadata": {},
     "output_type": "execute_result"
    },
    {
     "data": {
      "image/png": "[encoded data removed]",
      "text/plain": [
       "<Figure size 576x396 with 1 Axes>"
      ]
     },
     "metadata": {},
     "output_type": "display_data"
    }
   ],
   "source": [
    "sns.barplot(x = dep_var, y = \"count\", data = dv_count).set(xticklabels=[\"No\",\"Yes\"])\n",
    "plt.style.use('seaborn-notebook')\n",
    "plt.xlabel(\"Bicycle Injury or Death\")\n",
    "plt.ylabel(\"Count\")\n",
    "plt.title(\"Count of Bicycle Injury or Death Events\")"
   ]
  },
  {
   "cell_type": "code",
   "execution_count": 14,
   "metadata": {},
   "outputs": [
    {
     "data": {
      "text/plain": [
       "Text(0.5, 1.0, 'Count of Bicycle Injury or Death Events by Borough')"
      ]
     },
     "execution_count": 14,
     "metadata": {},
     "output_type": "execute_result"
    },
    {
     "data": {
      "image/png": "[encoded data removed]",
      "text/plain": [
       "<Figure size 576x396 with 1 Axes>"
      ]
     },
     "metadata": {
      "needs_background": "light"
     },
     "output_type": "display_data"
    }
   ],
   "source": [
    "#Bicycle death or injury by borough\n",
    "dv_borough = pd.DataFrame(collisions.groupby('BOROUGH')[dep_var].sum().reset_index()).sort_values(by = dep_var, ascending = False)\n",
    "sns.barplot(x = dep_var, y = \"BOROUGH\", data = dv_borough, orient = \"h\")\n",
    "plt.style.use('seaborn-notebook')\n",
    "plt.xlabel(\"Count\")\n",
    "plt.ylabel(\"Borough\")\n",
    "plt.title(\"Count of Bicycle Injury or Death Events by Borough\")"
   ]
  },
  {
   "cell_type": "code",
   "execution_count": 15,
   "metadata": {},
   "outputs": [
    {
     "data": {
      "text/plain": [
       "Text(0.5, 1.0, 'Count of Bicycle Injury or Death Events by Month')"
      ]
     },
     "execution_count": 15,
     "metadata": {},
     "output_type": "execute_result"
    },
    {
     "data": {
      "image/png": "[encoded data removed]",
      "text/plain": [
       "<Figure size 576x396 with 1 Axes>"
      ]
     },
     "metadata": {
      "needs_background": "light"
     },
     "output_type": "display_data"
    }
   ],
   "source": [
    "#Bicycle death or injury by month and hour\n",
    "dv_month = pd.DataFrame(collisions.groupby('Month')[dep_var].sum().reset_index()).sort_values(by = dep_var, ascending = False)\n",
    "sns.barplot(x = dep_var, y = \"Month\", data = dv_month, orient = \"h\")\n",
    "plt.style.use('seaborn-notebook')\n",
    "plt.xlabel(\"Count\")\n",
    "plt.ylabel(\"Month\")\n",
    "plt.title(\"Count of Bicycle Injury or Death Events by Month\")"
   ]
  },
  {
   "cell_type": "code",
   "execution_count": 16,
   "metadata": {},
   "outputs": [
    {
     "data": {
      "text/plain": [
       "Text(0.5, 1.0, 'Count of Bicycle Injury or Death Events by Hour')"
      ]
     },
     "execution_count": 16,
     "metadata": {},
     "output_type": "execute_result"
    },
    {
     "data": {
      "image/png": "[encoded data removed]",
      "text/plain": [
       "<Figure size 576x396 with 1 Axes>"
      ]
     },
     "metadata": {
      "needs_background": "light"
     },
     "output_type": "display_data"
    }
   ],
   "source": [
    "dv_hour = pd.DataFrame(collisions.groupby('Hour')[dep_var].sum().reset_index()).sort_values(by = \"Hour\", ascending = False)\n",
    "dv_hour['Hour'] = dv_hour['Hour'].astype(int)\n",
    "sns.barplot(x = dep_var, y = \"Hour\", data = dv_hour, orient = \"h\")\n",
    "plt.style.use('seaborn-notebook')\n",
    "plt.xlabel(\"Count\")\n",
    "plt.ylabel(\"Hour\")\n",
    "plt.title(\"Count of Bicycle Injury or Death Events by Hour\")"
   ]
  },
  {
   "cell_type": "code",
   "execution_count": 172,
   "metadata": {},
   "outputs": [
    {
     "data": {
      "text/plain": [
       "Text(0.5, 1.0, 'Count of Bicycle Injury or Death Events by Cause of Incident - Top 10')"
      ]
     },
     "execution_count": 172,
     "metadata": {},
     "output_type": "execute_result"
    },
    {
     "data": {
      "image/png": "[encoded data removed]",
      "text/plain": [
       "<Figure size 576x396 with 1 Axes>"
      ]
     },
     "metadata": {},
     "output_type": "display_data"
    }
   ],
   "source": [
    "#Bicycle death or injury by main contributing factor - top 10\n",
    "dv_vehicle = pd.DataFrame(collisions.groupby('CONTRIBUTING FACTOR VEHICLE 1')[dep_var].sum().reset_index()).sort_values(by = dep_var, ascending = False)[0:11]\n",
    "sns.barplot(x = dep_var, y = 'CONTRIBUTING FACTOR VEHICLE 1', data = dv_vehicle, orient = \"h\")\n",
    "plt.xlabel(\"Count\")\n",
    "plt.style.use('seaborn-notebook')\n",
    "plt.ylabel(\"Contributing Factor Vehicle 1\")\n",
    "plt.title(\"Count of Bicycle Injury or Death Events by Cause of Incident - Top 10\")"
   ]
  },
  {
   "cell_type": "code",
   "execution_count": 18,
   "metadata": {},
   "outputs": [],
   "source": [
    "#Check cardinality \n",
    "low_card = list()\n",
    "high_card = list()\n",
    "numerical = list()\n",
    "single_value = list()\n",
    "all_na = list()\n",
    "\n",
    "for col in collisions.columns:\n",
    "    try:\n",
    "        col_count_dist = collisions[col].nunique()\n",
    "        if col_count_dist == 0:\n",
    "            all_na.append(col)\n",
    "        elif col_count_dist == 1:\n",
    "            single_value.append(col)\n",
    "        elif col_count_dist <= max_one_hot:\n",
    "            low_card.append(col)\n",
    "        elif col_count_dist > max_one_hot and col_count_dist <= min_numerical:\n",
    "            high_card.append(col)\n",
    "        elif col_count_dist > min_numerical:\n",
    "            numerical.append(col)\n",
    "    except:\n",
    "        pass"
   ]
  },
  {
   "cell_type": "markdown",
   "metadata": {},
   "source": [
    "# Create dataframes by cardinality"
   ]
  },
  {
   "cell_type": "code",
   "execution_count": 19,
   "metadata": {},
   "outputs": [],
   "source": [
    "df_low_card = collisions[low_card].drop(dep_var, axis = 1)\n",
    "df_high_card = collisions[high_card]\n",
    "df_numerical = collisions[numerical]"
   ]
  },
  {
   "cell_type": "markdown",
   "metadata": {},
   "source": [
    "# Find columns that are already binary - reduces redundancy in one hot encoding"
   ]
  },
  {
   "cell_type": "code",
   "execution_count": 20,
   "metadata": {},
   "outputs": [],
   "source": [
    "#Find columns that are already binary - reduces redundancy in one hot encoding\n",
    "already_binary = list()\n",
    "\n",
    "for col in df_low_card.columns:\n",
    "    try:\n",
    "        col_min = df_low_card[col].min()\n",
    "        col_max = df_low_card[col].max()\n",
    "        if col_min == 0 and col_max == 1:\n",
    "            already_binary.append(col)\n",
    "    except:\n",
    "        pass"
   ]
  },
  {
   "cell_type": "code",
   "execution_count": 21,
   "metadata": {},
   "outputs": [],
   "source": [
    "# Dataframe of already binary columns - not found\n",
    "df_binary = df_low_card[[already_binary]]"
   ]
  },
  {
   "cell_type": "code",
   "execution_count": 22,
   "metadata": {},
   "outputs": [],
   "source": [
    "#Regex match on numerical data to see what is truly numerical or not - no numerical columns found\n",
    "true_num = list()\n",
    "true_high_card = list()\n",
    "\n",
    "for col in df_numerical.columns:\n",
    "    try:\n",
    "        col_to_check = str(df_numerical[col].dropna().iloc[0])\n",
    "        num_match = re.match(\"^[0-9]+$\", col_to_check)\n",
    "        if num_match:\n",
    "            true_num.append(col)\n",
    "        else:\n",
    "            true_high_card.append(col)\n",
    "    except:\n",
    "        pass"
   ]
  },
  {
   "cell_type": "code",
   "execution_count": 200,
   "metadata": {},
   "outputs": [],
   "source": [
    "df_low_card[[\"Month\",\"NUMBER OF PEDESTRIANS KILLED\", \"NUMBER OF PEDESTRIANS INJURED\", \"NUMBER OF MOTORIST KILLED\"]] = df_low_card[[\"Month\",\"NUMBER OF PEDESTRIANS KILLED\", \"NUMBER OF PEDESTRIANS INJURED\", \"NUMBER OF MOTORIST KILLED\"]].astype(\"object\")\n"
   ]
  },
  {
   "cell_type": "markdown",
   "metadata": {},
   "source": [
    "# One hot encode low cardinality columns "
   ]
  },
  {
   "cell_type": "code",
   "execution_count": 201,
   "metadata": {},
   "outputs": [],
   "source": [
    "#One hot encode low cardinality df\n",
    "df_low_one_hot = pd.get_dummies(df_low_card)"
   ]
  },
  {
   "cell_type": "markdown",
   "metadata": {},
   "source": [
    "# Target Encode High Cardinality Columns "
   ]
  },
  {
   "cell_type": "code",
   "execution_count": 24,
   "metadata": {},
   "outputs": [],
   "source": [
    "#Add high cardinality categorical data to the high card list and create a df\n",
    "high_card.extend(true_high_card)"
   ]
  },
  {
   "cell_type": "code",
   "execution_count": 25,
   "metadata": {},
   "outputs": [],
   "source": [
    "#Dataframe of true high cardinality data\n",
    "df_true_high_card = collisions[high_card]"
   ]
  },
  {
   "cell_type": "code",
   "execution_count": 26,
   "metadata": {},
   "outputs": [],
   "source": [
    "#Add target column for encoding\n",
    "df_true_high_card[dep_var] = collisions[dep_var]"
   ]
  },
  {
   "cell_type": "code",
   "execution_count": 27,
   "metadata": {},
   "outputs": [],
   "source": [
    "#Create train/test datasets for encoding\n",
    "te_train, te_test = train_test_split(df_true_high_card, test_size = test_size, random_state = seed)"
   ]
  },
  {
   "cell_type": "code",
   "execution_count": 28,
   "metadata": {},
   "outputs": [
    {
     "name": "stdout",
     "output_type": "stream",
     "text": [
      "Parse progress: |█████████████████████████████████████████████████████████| 100%\n",
      "Parse progress: |█████████████████████████████████████████████████████████| 100%\n"
     ]
    }
   ],
   "source": [
    "#Turn train and test set into h2o frames\n",
    "te_train = h2o.H2OFrame(te_train).ascharacter().asfactor()\n",
    "te_test = h2o.H2OFrame(te_test).ascharacter().asfactor()"
   ]
  },
  {
   "cell_type": "code",
   "execution_count": 29,
   "metadata": {},
   "outputs": [],
   "source": [
    "#Create a fold column\n",
    "fold = te_train.kfold_column(n_folds=5, seed=seed)\n",
    "fold.set_names([\"fold\"])\n",
    "\n",
    "te_train = te_train.cbind(fold)\n",
    "te_train[\"fold\"] = te_train[\"fold\"].asfactor()"
   ]
  },
  {
   "cell_type": "code",
   "execution_count": 30,
   "metadata": {},
   "outputs": [],
   "source": [
    "#Set list of columns to encode - drop DV & fold from variable list\n",
    "x = list(te_train.columns)\n",
    "x = [i for i in x if i not in [dep_var, \"fold\"]]"
   ]
  },
  {
   "cell_type": "code",
   "execution_count": 31,
   "metadata": {},
   "outputs": [
    {
     "data": {
      "text/plain": [
       "<h2o.expr.H2OCache at 0x1a2283aac8>"
      ]
     },
     "execution_count": 31,
     "metadata": {},
     "output_type": "execute_result"
    }
   ],
   "source": [
    "#Initialize target encoder and fit to training set\n",
    "target_encoder = TargetEncoder(x = x, y = dep_var,\n",
    "                               fold_column=\"fold\",\n",
    "                               blended_avg= True,\n",
    "                               inflection_point = 3,\n",
    "                               smoothing = 1,\n",
    "                               seed=seed)\n",
    "target_encoder.fit(te_train)"
   ]
  },
  {
   "cell_type": "code",
   "execution_count": 32,
   "metadata": {},
   "outputs": [],
   "source": [
    "#Transform training set\n",
    "encoded_train = target_encoder.transform(frame=te_train, holdout_type=\"kfold\", noise=0.2, seed=seed)\n",
    "\n",
    "#Transform test set\n",
    "encoded_test = target_encoder.transform(frame=te_test, holdout_type=\"none\", noise=0.0, seed=seed)"
   ]
  },
  {
   "cell_type": "code",
   "execution_count": 33,
   "metadata": {},
   "outputs": [],
   "source": [
    "#Union two sets backtogther and convert back to df\n",
    "df_high_card_te = encoded_train.drop(\"fold\", axis = 1).rbind(encoded_test)\n",
    "df_high_card_te = df_high_card_te.as_data_frame()"
   ]
  },
  {
   "cell_type": "code",
   "execution_count": 34,
   "metadata": {},
   "outputs": [],
   "source": [
    "#Drop untransformed columns\n",
    "df_high_card_te.drop(x, axis = 1, inplace=True)"
   ]
  },
  {
   "cell_type": "markdown",
   "metadata": {},
   "source": [
    "# Join Processed DataFrames Together for Modeling "
   ]
  },
  {
   "cell_type": "code",
   "execution_count": 203,
   "metadata": {},
   "outputs": [],
   "source": [
    "#Join dataframes together\n",
    "df_ml = pd.concat([df_low_one_hot, df_high_card_te], axis = 1)"
   ]
  },
  {
   "cell_type": "code",
   "execution_count": 206,
   "metadata": {},
   "outputs": [
    {
     "name": "stdout",
     "output_type": "stream",
     "text": [
      "Parse progress: |█████████████████████████████████████████████████████████| 100%\n"
     ]
    }
   ],
   "source": [
    "#Model\n",
    "#Turn final dataset into an h2o frame\n",
    "df_converted = h2o.H2OFrame(df_ml)"
   ]
  },
  {
   "cell_type": "markdown",
   "metadata": {},
   "source": [
    "# Create train & holdout sets"
   ]
  },
  {
   "cell_type": "code",
   "execution_count": 207,
   "metadata": {},
   "outputs": [],
   "source": [
    "#Create train/holdout sets\n",
    "df_test, df_train = df_converted.split_frame(ratios = [test_size], seed = seed)"
   ]
  },
  {
   "cell_type": "code",
   "execution_count": 208,
   "metadata": {},
   "outputs": [],
   "source": [
    "#Isolate IVs\n",
    "features = [x for x in df_test.columns if x not in [dep_var]]"
   ]
  },
  {
   "cell_type": "code",
   "execution_count": 209,
   "metadata": {},
   "outputs": [],
   "source": [
    "#Convert DV to factor\n",
    "df_train[dep_var] = df_train[dep_var].asfactor()"
   ]
  },
  {
   "cell_type": "markdown",
   "metadata": {},
   "source": [
    "# Initialize Random Forest Grid Search"
   ]
  },
  {
   "cell_type": "code",
   "execution_count": 210,
   "metadata": {},
   "outputs": [],
   "source": [
    "#RF hyperparameters - gridsearch on tree depth and n trees\n",
    "drf_params = {'max_depth': [3, 5, 10],\n",
    "                   'ntrees': [50, 100, 200]}"
   ]
  },
  {
   "cell_type": "code",
   "execution_count": 213,
   "metadata": {},
   "outputs": [],
   "source": [
    "#Initialize rf grid search\n",
    "drf_grid = H2OGridSearch(model=H2ORandomForestEstimator,\n",
    "                          grid_id='drf_grid2',\n",
    "                          hyper_params=drf_params)"
   ]
  },
  {
   "cell_type": "code",
   "execution_count": 214,
   "metadata": {},
   "outputs": [
    {
     "name": "stdout",
     "output_type": "stream",
     "text": [
      "drf Grid Build progress: |████████████████████████████████████████████████| 100%\n"
     ]
    }
   ],
   "source": [
    "#Run grid search - certain parameters kept constant\n",
    "drf_grid.train(features, \n",
    "               dep_var, \n",
    "               training_frame = df_train, \n",
    "               seed = seed, \n",
    "               balance_classes = True, \n",
    "               sample_rate = .75,\n",
    "               stopping_metric = \"logloss\",\n",
    "               col_sample_rate_per_tree = 1)"
   ]
  },
  {
   "cell_type": "markdown",
   "metadata": {},
   "source": [
    "# Model Results "
   ]
  },
  {
   "cell_type": "code",
   "execution_count": 215,
   "metadata": {},
   "outputs": [],
   "source": [
    "#Extract best model from grid search\n",
    "drf_list = drf_grid.get_grid(sort_by='auc', decreasing=True)\n",
    "drf_best = drf_list.models[0]"
   ]
  },
  {
   "cell_type": "code",
   "execution_count": 216,
   "metadata": {},
   "outputs": [
    {
     "data": {
      "image/png": "[encoded data removed]",
      "text/plain": [
       "<Figure size 1008x720 with 1 Axes>"
      ]
     },
     "metadata": {},
     "output_type": "display_data"
    }
   ],
   "source": [
    "#Top Variables\n",
    "drf_best.varimp_plot()"
   ]
  },
  {
   "cell_type": "code",
   "execution_count": 217,
   "metadata": {},
   "outputs": [
    {
     "data": {
      "image/png": "[encoded data removed]",
      "text/plain": [
       "<Figure size 576x396 with 1 Axes>"
      ]
     },
     "metadata": {},
     "output_type": "display_data"
    },
    {
     "name": "stdout",
     "output_type": "stream",
     "text": [
      "\n",
      "Confusion Matrix (Act/Pred) for max f1 @ threshold = 0.029848256028920918: \n"
     ]
    },
    {
     "data": {
      "text/html": [
       "<div>\n",
       "<style scoped>\n",
       "    .dataframe tbody tr th:only-of-type {\n",
       "        vertical-align: middle;\n",
       "    }\n",
       "\n",
       "    .dataframe tbody tr th {\n",
       "        vertical-align: top;\n",
       "    }\n",
       "\n",
       "    .dataframe thead th {\n",
       "        text-align: right;\n",
       "    }\n",
       "</style>\n",
       "<table border=\"1\" class=\"dataframe\">\n",
       "  <thead>\n",
       "    <tr style=\"text-align: right;\">\n",
       "      <th></th>\n",
       "      <th></th>\n",
       "      <th>0</th>\n",
       "      <th>1</th>\n",
       "      <th>Error</th>\n",
       "      <th>Rate</th>\n",
       "    </tr>\n",
       "  </thead>\n",
       "  <tbody>\n",
       "    <tr>\n",
       "      <th>0</th>\n",
       "      <td>0</td>\n",
       "      <td>283571.00</td>\n",
       "      <td>948.00</td>\n",
       "      <td>0.0033</td>\n",
       "      <td>(948.0/284519.0)</td>\n",
       "    </tr>\n",
       "    <tr>\n",
       "      <th>1</th>\n",
       "      <td>1</td>\n",
       "      <td>5528.00</td>\n",
       "      <td>1359.00</td>\n",
       "      <td>0.8027</td>\n",
       "      <td>(5528.0/6887.0)</td>\n",
       "    </tr>\n",
       "    <tr>\n",
       "      <th>2</th>\n",
       "      <td>Total</td>\n",
       "      <td>289099.00</td>\n",
       "      <td>2307.00</td>\n",
       "      <td>0.0222</td>\n",
       "      <td>(6476.0/291406.0)</td>\n",
       "    </tr>\n",
       "  </tbody>\n",
       "</table>\n",
       "</div>"
      ],
      "text/plain": [
       "                            0                    1   Error                Rate\n",
       "0      0            283571.00               948.00  0.0033    (948.0/284519.0)\n",
       "1      1              5528.00              1359.00  0.8027     (5528.0/6887.0)\n",
       "2  Total            289099.00              2307.00  0.0222   (6476.0/291406.0)"
      ]
     },
     "metadata": {},
     "output_type": "display_data"
    },
    {
     "data": {
      "text/plain": []
     },
     "execution_count": 217,
     "metadata": {},
     "output_type": "execute_result"
    }
   ],
   "source": [
    "#Test set performance - AUC and Predictions\n",
    "model_perf = drf_best.model_performance(df_test)\n",
    "model_perf.plot(type = \"roc\")\n",
    "model_perf.confusion_matrix()"
   ]
  },
  {
   "cell_type": "code",
   "execution_count": 218,
   "metadata": {},
   "outputs": [
    {
     "name": "stdout",
     "output_type": "stream",
     "text": [
      "Accuracy: 0.9777767101569631\n",
      "Precision: 0.19732829969507767\n",
      "Recall: 0.5890767230169051\n"
     ]
    }
   ],
   "source": [
    "#Accuracy\n",
    "print(\"Accuracy: \" + str((283571 + 1359) / (283571 + 1359 + 948 + 5528)))\n",
    "#Precision\n",
    "print(\"Precision: \" + str(1359 / (1359 + 5528)))\n",
    "#Recall\n",
    "print(\"Recall: \" + str(1359/(1359+948)))"
   ]
  },
  {
   "cell_type": "code",
   "execution_count": 219,
   "metadata": {},
   "outputs": [
    {
     "data": {
      "image/png": "[encoded data removed]",
      "text/plain": [
       "<Figure size 576x396 with 1 Axes>"
      ]
     },
     "metadata": {},
     "output_type": "display_data"
    }
   ],
   "source": [
    "#Models in order of best to worst in csv - read back in to make a nicer table - for showing which model was used for test set predictions\n",
    "models = pd.read_csv(\"models.csv\")\n",
    "fig, ax = plt.subplots()\n",
    "\n",
    "#hide axes\n",
    "ax.axis('off')\n",
    "ax.axis('tight')\n",
    "fig.patch.set_visible(True)\n",
    "\n",
    "ax.table(cellText=models.values, colLabels=models.columns, loc='center')\n",
    "\n",
    "fig.tight_layout()\n",
    "\n",
    "plt.show()"
   ]
  }
 ],
 "metadata": {
  "kernelspec": {
   "display_name": "Python 3",
   "language": "python",
   "name": "python3"
  },
  "language_info": {
   "codemirror_mode": {
    "name": "ipython",
    "version": 3
   },
   "file_extension": ".py",
   "mimetype": "text/x-python",
   "name": "python",
   "nbconvert_exporter": "python",
   "pygments_lexer": "ipython3",
   "version": "3.8.5"
  }
 },
 "nbformat": 4,
 "nbformat_minor": 4
}
